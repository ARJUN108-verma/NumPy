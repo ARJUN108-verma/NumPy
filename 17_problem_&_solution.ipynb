{
  "nbformat": 4,
  "nbformat_minor": 0,
  "metadata": {
    "colab": {
      "provenance": [],
      "authorship_tag": "ABX9TyPwKQgfqTeVaNyc6KHHotEH",
      "include_colab_link": true
    },
    "kernelspec": {
      "name": "python3",
      "display_name": "Python 3"
    },
    "language_info": {
      "name": "python"
    }
  },
  "cells": [
    {
      "cell_type": "markdown",
      "metadata": {
        "id": "view-in-github",
        "colab_type": "text"
      },
      "source": [
        "<a href=\"https://colab.research.google.com/github/ARJUN108-verma/NumPy/blob/main/17_problem_%26_solution.ipynb\" target=\"_parent\"><img src=\"https://colab.research.google.com/assets/colab-badge.svg\" alt=\"Open In Colab\"/></a>"
      ]
    },
    {
      "cell_type": "code",
      "execution_count": 17,
      "metadata": {
        "colab": {
          "base_uri": "https://localhost:8080/"
        },
        "id": "BvNHR5TW-RJu",
        "outputId": "c2b39508-994e-4f56-db5c-b54dc6fe7243"
      },
      "outputs": [
        {
          "output_type": "stream",
          "name": "stdout",
          "text": [
            "Requirement already satisfied: numpy in /usr/local/lib/python3.11/dist-packages (2.0.2)\n"
          ]
        }
      ],
      "source": [
        "!pip install numpy\n"
      ]
    },
    {
      "cell_type": "code",
      "source": [
        "import numpy as np"
      ],
      "metadata": {
        "id": "TAI4ywtu-dNM"
      },
      "execution_count": 18,
      "outputs": []
    },
    {
      "cell_type": "markdown",
      "source": [
        "Create a 1D NumPy array of numbers from 10 to 50.\n"
      ],
      "metadata": {
        "id": "KwwRTga8-aQ1"
      }
    },
    {
      "cell_type": "code",
      "source": [
        "ar = np.arange(10,51)\n",
        "print(ar)"
      ],
      "metadata": {
        "colab": {
          "base_uri": "https://localhost:8080/"
        },
        "id": "r5Of7zLa-b9F",
        "outputId": "be69225a-b3cb-43f9-fd9c-3382be3628ef"
      },
      "execution_count": 19,
      "outputs": [
        {
          "output_type": "stream",
          "name": "stdout",
          "text": [
            "[10 11 12 13 14 15 16 17 18 19 20 21 22 23 24 25 26 27 28 29 30 31 32 33\n",
            " 34 35 36 37 38 39 40 41 42 43 44 45 46 47 48 49 50]\n"
          ]
        }
      ]
    },
    {
      "cell_type": "markdown",
      "source": [
        "Create a 3x3 identity matrix.\n"
      ],
      "metadata": {
        "id": "dmp9Z5xe_6o2"
      }
    },
    {
      "cell_type": "code",
      "source": [
        "ar1 = np.array([1,1,3,4,5], ndmin= 3)\n",
        "print(ar1)"
      ],
      "metadata": {
        "colab": {
          "base_uri": "https://localhost:8080/"
        },
        "id": "S-YdELx7_76M",
        "outputId": "3871dac6-de6d-4739-ca1e-ef0160e56db4"
      },
      "execution_count": 20,
      "outputs": [
        {
          "output_type": "stream",
          "name": "stdout",
          "text": [
            "[[[1 1 3 4 5]]]\n"
          ]
        }
      ]
    },
    {
      "cell_type": "markdown",
      "source": [
        "Create a 5x5 matrix filled with the number 7.\n"
      ],
      "metadata": {
        "id": "g7JUwrSk_z0c"
      }
    },
    {
      "cell_type": "code",
      "source": [
        "ar2 = np.full((5,5),7)\n",
        "ar2"
      ],
      "metadata": {
        "colab": {
          "base_uri": "https://localhost:8080/"
        },
        "id": "7W-fbpBqAWMU",
        "outputId": "02bfe3f5-e50b-4c71-c506-ea4c1d64c852"
      },
      "execution_count": 21,
      "outputs": [
        {
          "output_type": "execute_result",
          "data": {
            "text/plain": [
              "array([[7, 7, 7, 7, 7],\n",
              "       [7, 7, 7, 7, 7],\n",
              "       [7, 7, 7, 7, 7],\n",
              "       [7, 7, 7, 7, 7],\n",
              "       [7, 7, 7, 7, 7]])"
            ]
          },
          "metadata": {},
          "execution_count": 21
        }
      ]
    },
    {
      "cell_type": "markdown",
      "source": [
        "Generate a 1D array of 10 random integers between 1 and 100.\n"
      ],
      "metadata": {
        "id": "woUo-RwhAwvr"
      }
    },
    {
      "cell_type": "code",
      "source": [
        "ar3 = np.random.randint(1,100, size = 10)\n",
        "ar3"
      ],
      "metadata": {
        "colab": {
          "base_uri": "https://localhost:8080/"
        },
        "id": "nt1-3fPBAxxs",
        "outputId": "ad61ae9f-b0a7-4998-dd3a-2e09e648a724"
      },
      "execution_count": 22,
      "outputs": [
        {
          "output_type": "execute_result",
          "data": {
            "text/plain": [
              "array([91, 19, 65,  4, 90, 90, 32, 89,  1, 78])"
            ]
          },
          "metadata": {},
          "execution_count": 22
        }
      ]
    },
    {
      "cell_type": "markdown",
      "source": [
        "Reshape a 1D array of 12 elements into a 3x4 matrix.\n"
      ],
      "metadata": {
        "id": "u3EBISiuBNbN"
      }
    },
    {
      "cell_type": "code",
      "source": [
        "ar4 = np.array([1,2,3,4,5,6,7,8,9,10,11,12])\n",
        "ar4"
      ],
      "metadata": {
        "colab": {
          "base_uri": "https://localhost:8080/"
        },
        "id": "oPz1kqcFBPS8",
        "outputId": "0ee978bb-4b96-4d34-fc29-c64ba3d5408d"
      },
      "execution_count": 23,
      "outputs": [
        {
          "output_type": "execute_result",
          "data": {
            "text/plain": [
              "array([ 1,  2,  3,  4,  5,  6,  7,  8,  9, 10, 11, 12])"
            ]
          },
          "metadata": {},
          "execution_count": 23
        }
      ]
    },
    {
      "cell_type": "code",
      "source": [
        "ar4.reshape(3,4)"
      ],
      "metadata": {
        "colab": {
          "base_uri": "https://localhost:8080/"
        },
        "id": "XGdkm2ynBhOM",
        "outputId": "e0b809e0-1df4-410a-e359-50788c85fc40"
      },
      "execution_count": 24,
      "outputs": [
        {
          "output_type": "execute_result",
          "data": {
            "text/plain": [
              "array([[ 1,  2,  3,  4],\n",
              "       [ 5,  6,  7,  8],\n",
              "       [ 9, 10, 11, 12]])"
            ]
          },
          "metadata": {},
          "execution_count": 24
        }
      ]
    },
    {
      "cell_type": "markdown",
      "source": [
        "Get the mean, median, and standard deviation of an array.\n"
      ],
      "metadata": {
        "id": "Xy7K0ut7Bu2c"
      }
    },
    {
      "cell_type": "code",
      "source": [
        "#mean\n",
        "ar4.mean()"
      ],
      "metadata": {
        "colab": {
          "base_uri": "https://localhost:8080/"
        },
        "id": "OXIYr6qGBwCD",
        "outputId": "4d5fdf4e-2a59-456b-a565-a099273c076f"
      },
      "execution_count": 25,
      "outputs": [
        {
          "output_type": "execute_result",
          "data": {
            "text/plain": [
              "np.float64(6.5)"
            ]
          },
          "metadata": {},
          "execution_count": 25
        }
      ]
    },
    {
      "cell_type": "code",
      "source": [
        "#median\n",
        "np.median(ar4)"
      ],
      "metadata": {
        "colab": {
          "base_uri": "https://localhost:8080/"
        },
        "id": "MGHhTYMTB9Oj",
        "outputId": "4d7e1936-6274-4f86-dbb6-a9b8d193e3d9"
      },
      "execution_count": 28,
      "outputs": [
        {
          "output_type": "execute_result",
          "data": {
            "text/plain": [
              "np.float64(6.5)"
            ]
          },
          "metadata": {},
          "execution_count": 28
        }
      ]
    },
    {
      "cell_type": "code",
      "source": [
        "#standard deviation\n",
        "np.std(ar4)"
      ],
      "metadata": {
        "colab": {
          "base_uri": "https://localhost:8080/"
        },
        "id": "D4QougBKCwUN",
        "outputId": "d06ca3ed-cecc-4a82-a51a-7af87b4ae7e9"
      },
      "execution_count": 29,
      "outputs": [
        {
          "output_type": "execute_result",
          "data": {
            "text/plain": [
              "np.float64(3.452052529534663)"
            ]
          },
          "metadata": {},
          "execution_count": 29
        }
      ]
    },
    {
      "cell_type": "markdown",
      "source": [
        "Find all elements greater than 5 in a given array.\n"
      ],
      "metadata": {
        "id": "uafOydmvDCN8"
      }
    },
    {
      "cell_type": "code",
      "source": [
        "grtn_5 = ar4[ar4 > 5]\n",
        "grtn_5"
      ],
      "metadata": {
        "colab": {
          "base_uri": "https://localhost:8080/"
        },
        "id": "Z3FC6rNZDDnM",
        "outputId": "dc782c57-16ac-40c9-98be-ba7346a1b0a7"
      },
      "execution_count": 30,
      "outputs": [
        {
          "output_type": "execute_result",
          "data": {
            "text/plain": [
              "array([ 6,  7,  8,  9, 10, 11, 12])"
            ]
          },
          "metadata": {},
          "execution_count": 30
        }
      ]
    },
    {
      "cell_type": "markdown",
      "source": [
        "Create two arrays and perform element-wise multiplication.\n"
      ],
      "metadata": {
        "id": "_Y67tXcFDeC8"
      }
    },
    {
      "cell_type": "code",
      "source": [
        "a = np.array([2,4,6,8,10])\n",
        "b = np.array([1,3,5,7,9])\n",
        "mult = a*b\n",
        "print(mult)"
      ],
      "metadata": {
        "colab": {
          "base_uri": "https://localhost:8080/"
        },
        "id": "Y2e7ldhTDfJO",
        "outputId": "96a9b940-8442-449d-c084-b09a93c503b2"
      },
      "execution_count": 32,
      "outputs": [
        {
          "output_type": "stream",
          "name": "stdout",
          "text": [
            "[ 2 12 30 56 90]\n"
          ]
        }
      ]
    },
    {
      "cell_type": "markdown",
      "source": [
        "Replace all odd numbers in an array with -1.\n"
      ],
      "metadata": {
        "id": "zWJ8OJN5EOvT"
      }
    },
    {
      "cell_type": "code",
      "source": [
        "ar4[ar4 % 2 != 0] = -1\n",
        "ar4"
      ],
      "metadata": {
        "colab": {
          "base_uri": "https://localhost:8080/"
        },
        "id": "hU7mXX3tEOQL",
        "outputId": "19646de2-d9d7-4145-85ee-8ddbf4cfc2ca"
      },
      "execution_count": 34,
      "outputs": [
        {
          "output_type": "execute_result",
          "data": {
            "text/plain": [
              "array([-1,  2, -1,  4, -1,  6, -1,  8, -1, 10, -1, 12])"
            ]
          },
          "metadata": {},
          "execution_count": 34
        }
      ]
    },
    {
      "cell_type": "markdown",
      "source": [
        "Stack two arrays vertically and horizontally.\n"
      ],
      "metadata": {
        "id": "kH6WRpnnE5He"
      }
    },
    {
      "cell_type": "code",
      "source": [
        "#vertically\n",
        "v_stack = np.vstack((a,b))\n",
        "print(v_stack)"
      ],
      "metadata": {
        "colab": {
          "base_uri": "https://localhost:8080/"
        },
        "id": "0w-YiuqaE6As",
        "outputId": "9ad68016-f96f-4b3a-bc21-7553cb99820b"
      },
      "execution_count": 35,
      "outputs": [
        {
          "output_type": "stream",
          "name": "stdout",
          "text": [
            "[[ 2  4  6  8 10]\n",
            " [ 1  3  5  7  9]]\n"
          ]
        }
      ]
    },
    {
      "cell_type": "code",
      "source": [
        "#horizontally\n",
        "h_stack = np.hstack((a,b))\n",
        "print(h_stack)"
      ],
      "metadata": {
        "colab": {
          "base_uri": "https://localhost:8080/"
        },
        "id": "WyA3aEH_FeTa",
        "outputId": "d1ede654-1ce8-40ef-b918-39f493bc8075"
      },
      "execution_count": 36,
      "outputs": [
        {
          "output_type": "stream",
          "name": "stdout",
          "text": [
            "[ 2  4  6  8 10  1  3  5  7  9]\n"
          ]
        }
      ]
    },
    {
      "cell_type": "markdown",
      "source": [
        "Find the square root and exponential of all array elements.\n"
      ],
      "metadata": {
        "id": "aWtcE00jFzxj"
      }
    },
    {
      "cell_type": "code",
      "source": [
        "#square root\n",
        "np.sqrt(a)"
      ],
      "metadata": {
        "colab": {
          "base_uri": "https://localhost:8080/"
        },
        "id": "ip4h0j_MF0et",
        "outputId": "3212de1a-6019-4c89-a2d3-e7306f5bab0d"
      },
      "execution_count": 37,
      "outputs": [
        {
          "output_type": "execute_result",
          "data": {
            "text/plain": [
              "array([1.41421356, 2.        , 2.44948974, 2.82842712, 3.16227766])"
            ]
          },
          "metadata": {},
          "execution_count": 37
        }
      ]
    },
    {
      "cell_type": "code",
      "source": [
        "#exponential\n",
        "np.exp(b)"
      ],
      "metadata": {
        "colab": {
          "base_uri": "https://localhost:8080/"
        },
        "id": "ewCxerqgF-6K",
        "outputId": "c7266368-9a3b-44c1-95ce-9d8e3540cec7"
      },
      "execution_count": 38,
      "outputs": [
        {
          "output_type": "execute_result",
          "data": {
            "text/plain": [
              "array([2.71828183e+00, 2.00855369e+01, 1.48413159e+02, 1.09663316e+03,\n",
              "       8.10308393e+03])"
            ]
          },
          "metadata": {},
          "execution_count": 38
        }
      ]
    },
    {
      "cell_type": "markdown",
      "source": [
        "Create a boolean array that identifies even numbers in a given array."
      ],
      "metadata": {
        "id": "JZGokm1EGMVS"
      }
    },
    {
      "cell_type": "code",
      "source": [
        "#even\n",
        "ev1 = b % 2 == 0\n",
        "ev1"
      ],
      "metadata": {
        "colab": {
          "base_uri": "https://localhost:8080/"
        },
        "id": "LiO7btqrGNSE",
        "outputId": "59bd8448-485d-40a7-8317-3d855efb85ff"
      },
      "execution_count": 40,
      "outputs": [
        {
          "output_type": "execute_result",
          "data": {
            "text/plain": [
              "array([False, False, False, False, False])"
            ]
          },
          "metadata": {},
          "execution_count": 40
        }
      ]
    },
    {
      "cell_type": "code",
      "source": [
        "ev2 = a % 2 == 0\n",
        "ev2"
      ],
      "metadata": {
        "colab": {
          "base_uri": "https://localhost:8080/"
        },
        "id": "RL73aUfyHIDK",
        "outputId": "054fc9ec-064d-418b-fc1c-ca18fb7b89b4"
      },
      "execution_count": 41,
      "outputs": [
        {
          "output_type": "execute_result",
          "data": {
            "text/plain": [
              "array([ True,  True,  True,  True,  True])"
            ]
          },
          "metadata": {},
          "execution_count": 41
        }
      ]
    },
    {
      "cell_type": "markdown",
      "source": [
        "Get the index of the maximum and minimum value in an array."
      ],
      "metadata": {
        "id": "8YiVRLMOHV5i"
      }
    },
    {
      "cell_type": "code",
      "source": [
        "#maximum values index\n",
        "np.argmax(ar4)"
      ],
      "metadata": {
        "colab": {
          "base_uri": "https://localhost:8080/"
        },
        "id": "E_34nAYFHXFC",
        "outputId": "82b5518c-c60e-44cf-f723-d7a02809613d"
      },
      "execution_count": 43,
      "outputs": [
        {
          "output_type": "execute_result",
          "data": {
            "text/plain": [
              "np.int64(11)"
            ]
          },
          "metadata": {},
          "execution_count": 43
        }
      ]
    },
    {
      "cell_type": "code",
      "source": [
        "#minimum values index\n",
        "np.argmin(ar4)"
      ],
      "metadata": {
        "colab": {
          "base_uri": "https://localhost:8080/"
        },
        "id": "B8fkXZcUHzoS",
        "outputId": "44d75d8c-6495-4af6-e30a-4abbad813143"
      },
      "execution_count": 44,
      "outputs": [
        {
          "output_type": "execute_result",
          "data": {
            "text/plain": [
              "np.int64(0)"
            ]
          },
          "metadata": {},
          "execution_count": 44
        }
      ]
    }
  ]
}